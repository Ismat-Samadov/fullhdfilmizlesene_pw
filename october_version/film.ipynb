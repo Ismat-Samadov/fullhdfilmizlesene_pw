{
 "cells": [
  {
   "cell_type": "code",
   "execution_count": 9,
   "id": "5d393839-e19a-4d82-9f40-60330b1dad38",
   "metadata": {},
   "outputs": [
    {
     "name": "stdout",
     "output_type": "stream",
     "text": [
      "Setup Complete\n"
     ]
    }
   ],
   "source": [
    "from selenium import webdriver\n",
    "import pandas as pd\n",
    "import numpy as np\n",
    "from bs4 import BeautifulSoup\n",
    "import requests\n",
    "import re \n",
    "from matplotlib import pyplot as plt\n",
    "import seaborn as sns\n",
    "import time\n",
    "import urllib3\n",
    "pd.plotting.register_matplotlib_converters()\n",
    "# %matplotlib inline\n",
    "print(\"Setup Complete\")"
   ]
  },
  {
   "cell_type": "markdown",
   "id": "95e7934d-9851-4af8-b8b1-b165a1d2835e",
   "metadata": {},
   "source": [
    "## First Stage : exploring content"
   ]
  },
  {
   "cell_type": "code",
   "execution_count": 2,
   "id": "df5f7646-5e4d-4056-9c71-1116715eee14",
   "metadata": {},
   "outputs": [],
   "source": [
    "#name\n",
    "http = urllib3.PoolManager()\n",
    "l = http.request('GET',f'https://www.fullhdfilmizlesene.pw/yeni-filmler-hdfilm-izle/22')\n",
    "soup_1=BeautifulSoup(l.data, 'html.parser')\n",
    "links_1 = soup_1.findAll('a', class_='film-title')"
   ]
  },
  {
   "cell_type": "code",
   "execution_count": 2,
   "id": "7b2f1bcc-3836-4a85-b6d9-e3a53038c733",
   "metadata": {},
   "outputs": [],
   "source": []
  },
  {
   "cell_type": "code",
   "execution_count": 2,
   "id": "51e23116-1d62-4274-b1ca-9ebab0521e10",
   "metadata": {},
   "outputs": [],
   "source": [
    "#imdb\n",
    "http_2= urllib3.PoolManager()\n",
    "l_2 = http_2.request('GET',f'https://www.fullhdfilmizlesene.pw/yeni-filmler-hdfilm-izle/22')\n",
    "soup_2=BeautifulSoup(l_2.data, 'html.parser')\n",
    "links_2 = soup_2.findAll('span', class_='imdb')"
   ]
  },
  {
   "cell_type": "code",
   "execution_count": 2,
   "id": "ac4e9fe3-92a1-49a1-bc1f-cdb18bd0a3a7",
   "metadata": {},
   "outputs": [],
   "source": []
  },
  {
   "cell_type": "code",
   "execution_count": 2,
   "id": "43754315-9ce8-44af-95c3-54434e2530e9",
   "metadata": {},
   "outputs": [],
   "source": [
    "# comments\n",
    "http_3= urllib3.PoolManager()\n",
    "l_3 = http_3.request('GET',f'https://www.fullhdfilmizlesene.pw/yeni-filmler-hdfilm-izle/22')\n",
    "soup_3=BeautifulSoup(l_3.data, 'html.parser')\n",
    "links_3 = soup_3.findAll('span', class_='yrm')"
   ]
  },
  {
   "cell_type": "code",
   "execution_count": 2,
   "id": "d130502a-65c4-45be-adbc-ff2daf0e8cb7",
   "metadata": {},
   "outputs": [],
   "source": []
  },
  {
   "cell_type": "code",
   "execution_count": 2,
   "id": "6ead3488-7475-41a4-94a8-b725cfc25e1a",
   "metadata": {},
   "outputs": [],
   "source": [
    "# time\n",
    "http_4= urllib3.PoolManager()\n",
    "l_4 = http_4.request('GET',f'https://www.fullhdfilmizlesene.pw/yeni-filmler-hdfilm-izle/22')\n",
    "soup_4=BeautifulSoup(l_4.data, 'html.parser')\n",
    "links_4 = soup_4.findAll('span', class_='film-yil')"
   ]
  },
  {
   "cell_type": "code",
   "execution_count": 2,
   "id": "7287d2e2-17f6-468d-b093-165283e7bba8",
   "metadata": {},
   "outputs": [],
   "source": []
  },
  {
   "cell_type": "code",
   "execution_count": 2,
   "id": "719ea8ee-395c-4055-8326-2520f86b08d2",
   "metadata": {},
   "outputs": [],
   "source": [
    "# janr\n",
    "http_5= urllib3.PoolManager()\n",
    "l_5 = http_5.request('GET',f'https://www.fullhdfilmizlesene.pw/yeni-filmler-hdfilm-izle/22')\n",
    "soup_5=BeautifulSoup(l_5.data, 'html.parser')\n",
    "links_5 = soup_5.findAll('span', class_='ktt')"
   ]
  },
  {
   "cell_type": "code",
   "execution_count": 60,
   "id": "3b9a81fd-d392-4ee6-bc7d-d8c1ef63d51a",
   "metadata": {},
   "outputs": [],
   "source": [
    "film_list=[]\n",
    "for i in range(len(links_1)):\n",
    "    try:\n",
    "        links_1 = soup_1.findAll('a', class_='film-title')\n",
    "        links_2 = soup_2.findAll('span', class_='imdb')\n",
    "        links_3 = soup_3.findAll('span', class_='yrm')\n",
    "        links_4 = soup_4.findAll('span', class_='film-yil')\n",
    "        links_5 = soup_5.findAll('span', class_='ktt')\n",
    "        name=re.sub('<[^>]+>' , ' ', str(links_1[i])).strip()\n",
    "        imdb=re.sub('<[^>]+>' , ' ', str(links_2[i])).strip()\n",
    "        comment=re.sub('<[^>]+>' , ' ', str(links_3[i])).strip().split(' ')[0]\n",
    "        year=re.sub('<[^>]+>' , ' ', str(links_4[i])).strip()\n",
    "        category=re.sub('<[^>]+>' , ' ', str(links_5[i])).strip()\n",
    "        film_list.append({'name':name,'imdb':imdb,'comment':comment,'year':year,'category':category})\n",
    "        data = pd.DataFrame(film_list)\n",
    "    except:\n",
    "         pass\n",
    "    continue\n",
    "data    "
   ]
  },
  {
   "cell_type": "code",
   "execution_count": null,
   "id": "1c92367d-e6f2-463f-a735-3c80b3b64a16",
   "metadata": {},
   "outputs": [],
   "source": []
  },
  {
   "cell_type": "markdown",
   "id": "a9969f65-3ffe-4354-ac8d-7a11fffd7357",
   "metadata": {},
   "source": [
    "## Second stage: Scraping all pages through the loop"
   ]
  },
  {
   "cell_type": "code",
   "execution_count": 6,
   "id": "76a57428-c20e-4d88-84ab-21f4cf1856fb",
   "metadata": {},
   "outputs": [
    {
     "name": "stdout",
     "output_type": "stream",
     "text": [
      "CPU times: total: 3.48 s\n",
      "Wall time: 1min 4s\n"
     ]
    },
    {
     "data": {
      "text/html": [
       "<div>\n",
       "<style scoped>\n",
       "    .dataframe tbody tr th:only-of-type {\n",
       "        vertical-align: middle;\n",
       "    }\n",
       "\n",
       "    .dataframe tbody tr th {\n",
       "        vertical-align: top;\n",
       "    }\n",
       "\n",
       "    .dataframe thead th {\n",
       "        text-align: right;\n",
       "    }\n",
       "</style>\n",
       "<table border=\"1\" class=\"dataframe\">\n",
       "  <thead>\n",
       "    <tr style=\"text-align: right;\">\n",
       "      <th></th>\n",
       "      <th>ad</th>\n",
       "      <th>comment_count</th>\n",
       "      <th>film_year</th>\n",
       "      <th>category</th>\n",
       "    </tr>\n",
       "  </thead>\n",
       "  <tbody>\n",
       "    <tr>\n",
       "      <th>0</th>\n",
       "      <td>İlk Kar</td>\n",
       "      <td>0</td>\n",
       "      <td>2013</td>\n",
       "      <td>Dram</td>\n",
       "    </tr>\n",
       "    <tr>\n",
       "      <th>1</th>\n",
       "      <td>Sahipsiz Çocuk</td>\n",
       "      <td>0</td>\n",
       "      <td>2014</td>\n",
       "      <td>Dram</td>\n",
       "    </tr>\n",
       "    <tr>\n",
       "      <th>2</th>\n",
       "      <td>Kiralık Bir Eş Esposa de Aluguel</td>\n",
       "      <td>0</td>\n",
       "      <td>2022</td>\n",
       "      <td>Komedi, Romantik</td>\n",
       "    </tr>\n",
       "    <tr>\n",
       "      <th>3</th>\n",
       "      <td>Acımasız Grimcutty</td>\n",
       "      <td>0</td>\n",
       "      <td>2022</td>\n",
       "      <td>Dram, Korku, Gizem</td>\n",
       "    </tr>\n",
       "    <tr>\n",
       "      <th>4</th>\n",
       "      <td>Royalteen</td>\n",
       "      <td>0</td>\n",
       "      <td>2022</td>\n",
       "      <td>Dram, Romantik</td>\n",
       "    </tr>\n",
       "  </tbody>\n",
       "</table>\n",
       "</div>"
      ],
      "text/plain": [
       "                                 ad  comment_count film_year  \\\n",
       "0                           İlk Kar              0      2013   \n",
       "1                    Sahipsiz Çocuk              0      2014   \n",
       "2  Kiralık Bir Eş Esposa de Aluguel              0      2022   \n",
       "3                Acımasız Grimcutty              0      2022   \n",
       "4                         Royalteen              0      2022   \n",
       "\n",
       "             category  \n",
       "0                Dram  \n",
       "1                Dram  \n",
       "2    Komedi, Romantik  \n",
       "3  Dram, Korku, Gizem  \n",
       "4      Dram, Romantik  "
      ]
     },
     "execution_count": 6,
     "metadata": {},
     "output_type": "execute_result"
    }
   ],
   "source": [
    "%%time\n",
    "filmler=[]\n",
    "df=pd.DataFrame()\n",
    "for num in range(1,3):\n",
    "    for i in range(0,18):\n",
    "        filmler.append({'ad':re.sub('<[^>]+>' , ' ',str((BeautifulSoup(((urllib3.PoolManager()).request('GET',f'https://www.fullhdfilmizlesene.pw/yeni-filmler-hdfilm-izle/{num}')).data,'html.parser')).findAll('a', class_='film-title')[i])).strip(),\n",
    "        'comment_count':int(re.sub('<[^>]+>' , ' ',str((BeautifulSoup(((urllib3.PoolManager()).request('GET',f'https://www.fullhdfilmizlesene.pw/yeni-filmler-hdfilm-izle/{num}')).data,'html.parser')).findAll('span', class_='yrm')[i])).strip().split(' ')[0]),\n",
    "        'film_year':re.sub('<[^>]+>' , ' ',str((BeautifulSoup(((urllib3.PoolManager()).request('GET',f'https://www.fullhdfilmizlesene.pw/yeni-filmler-hdfilm-izle/{num}')).data,'html.parser')).findAll('span', class_='film-yil')[i])).strip(),\n",
    "        'category':re.sub('<[^>]+>' , ' ',str((BeautifulSoup(((urllib3.PoolManager()).request('GET',f'https://www.fullhdfilmizlesene.pw/yeni-filmler-hdfilm-izle/{num}')).data,'html.parser')).findAll('span', class_='ktt')[i])).strip()})\n",
    "df = pd.DataFrame(filmler)\n",
    "\n",
    "df.head(5)"
   ]
  },
  {
   "cell_type": "code",
   "execution_count": null,
   "id": "252b6b0e-f11d-483b-a741-72d358d85290",
   "metadata": {},
   "outputs": [],
   "source": []
  },
  {
   "cell_type": "code",
   "execution_count": null,
   "id": "82d3a7d9-714c-48f4-b8d1-a90670f9d0e9",
   "metadata": {},
   "outputs": [],
   "source": []
  },
  {
   "cell_type": "markdown",
   "id": "5b6f8c63-d831-4522-a891-dd4fc11fc83e",
   "metadata": {},
   "source": [
    "### per film scraping"
   ]
  },
  {
   "cell_type": "markdown",
   "id": "f7b12b5e-dbe6-4a3a-bf0f-54e302bca437",
   "metadata": {
    "tags": []
   },
   "source": [
    "## links"
   ]
  },
  {
   "cell_type": "code",
   "execution_count": 52,
   "id": "b2178195-5cee-4d5d-b236-02a5686fe5d4",
   "metadata": {},
   "outputs": [],
   "source": [
    "l='https://www.fullhdfilmizlesene.pw/filmizle/aksiyon-filmleri-izle-fhd-hd/6'\n",
    "http = urllib3.PoolManager()\n",
    "url= http.request('GET',l)\n",
    "soup= BeautifulSoup(url.data, 'html.parser')\n",
    "linkler=soup.find_all('a',class_='tt')"
   ]
  },
  {
   "cell_type": "code",
   "execution_count": 46,
   "id": "43304f31-9e40-4c82-a672-36be18d7f637",
   "metadata": {},
   "outputs": [
    {
     "data": {
      "text/plain": [
       "'https://www.fullhdfilmizlesene.pw/film/suikast-treni-izlehd-fhd4/'"
      ]
     },
     "execution_count": 46,
     "metadata": {},
     "output_type": "execute_result"
    }
   ],
   "source": [
    "str(linkler[0]).replace('<a class=\"tt\" href=\"','').replace('\" title=\"Filmi izle\"></a>','')"
   ]
  },
  {
   "cell_type": "code",
   "execution_count": 8,
   "id": "12cebaaf-2a0b-4ce2-95af-af00c50fed76",
   "metadata": {},
   "outputs": [
    {
     "data": {
      "text/plain": [
       "18"
      ]
     },
     "execution_count": 8,
     "metadata": {},
     "output_type": "execute_result"
    }
   ],
   "source": [
    "list_l=[]\n",
    "for i in range(len(linkler)):\n",
    "    list_l.append(str(linkler[i]).replace('<a class=\"tt\" href=\"','').replace('\" title=\"Filmi izle\"></a>',''))\n",
    "len(list_l)"
   ]
  },
  {
   "cell_type": "code",
   "execution_count": null,
   "id": "adca8ee0-2e53-4653-b7e8-1b90bdb6839d",
   "metadata": {},
   "outputs": [],
   "source": []
  },
  {
   "cell_type": "code",
   "execution_count": 7,
   "id": "85ba410b-000e-4473-994e-efdc85d2d7f4",
   "metadata": {},
   "outputs": [
    {
     "name": "stdout",
     "output_type": "stream",
     "text": [
      "CPU times: total: 46.9 ms\n",
      "Wall time: 2.66 s\n"
     ]
    },
    {
     "data": {
      "text/plain": [
       "['https://www.fullhdfilmizlesene.pw/film/kuzey-denizi-nordsjen/',\n",
       " 'https://www.fullhdfilmizlesene.pw/film/gold-6-fhd3/',\n",
       " 'https://www.fullhdfilmizlesene.pw/film/infinite-fhd5/',\n",
       " 'https://www.fullhdfilmizlesene.pw/film/yenilmez-ejderha-jiu-long-bu-bai/',\n",
       " 'https://www.fullhdfilmizlesene.pw/film/supercool-fhd3/',\n",
       " 'https://www.fullhdfilmizlesene.pw/film/mortal-kombat-legends-snow-blind/',\n",
       " 'https://www.fullhdfilmizlesene.pw/film/section-8/',\n",
       " 'https://www.fullhdfilmizlesene.pw/film/the-contractor-fhd2/',\n",
       " 'https://www.fullhdfilmizlesene.pw/film/the-wolverine-izlehd-fhd3/',\n",
       " 'https://www.fullhdfilmizlesene.pw/film/deadpool-izle-fhd5/',\n",
       " 'https://www.fullhdfilmizlesene.pw/film/10-mnts-gn-izlehd-fhd1/',\n",
       " 'https://www.fullhdfilmizlesene.pw/film/vendhu-thanindhathu-kaadu/',\n",
       " 'https://www.fullhdfilmizlesene.pw/film/wolves-of-war/',\n",
       " 'https://www.fullhdfilmizlesene.pw/film/medieval/',\n",
       " 'https://www.fullhdfilmizlesene.pw/film/wire-room/',\n",
       " 'https://www.fullhdfilmizlesene.pw/film/jurassic-world-dominion-film-izle-hd7/',\n",
       " 'https://www.fullhdfilmizlesene.pw/film/pokemon-arceus-gunlukleri-poketto-monsuta-shin-to-yoba-reshi-aruseusu/',\n",
       " 'https://www.fullhdfilmizlesene.pw/film/avatar-filmi-izle-full-hd2/',\n",
       " 'https://www.fullhdfilmizlesene.pw/film/fullmetal-alchemist-the-final-alchemy/',\n",
       " 'https://www.fullhdfilmizlesene.pw/film/lou-5/',\n",
       " 'https://www.fullhdfilmizlesene.pw/film/hunting-ava-bravo/',\n",
       " 'https://www.fullhdfilmizlesene.pw/film/one-way/',\n",
       " 'https://www.fullhdfilmizlesene.pw/film/maneater/',\n",
       " 'https://www.fullhdfilmizlesene.pw/film/rrr-rise-roar-revolt/',\n",
       " 'https://www.fullhdfilmizlesene.pw/film/athena/',\n",
       " 'https://www.fullhdfilmizlesene.pw/film/kirpi-sonic-2-fhd8/',\n",
       " 'https://www.fullhdfilmizlesene.pw/film/thor-4-ask-ve-gok-gurultusu-izle-hty4/',\n",
       " 'https://www.fullhdfilmizlesene.pw/film/bring-him-back-dead-fhd/',\n",
       " 'https://www.fullhdfilmizlesene.pw/film/white-elephant-fhd3/',\n",
       " 'https://www.fullhdfilmizlesene.pw/film/kuzeyli-the-northman/',\n",
       " 'https://www.fullhdfilmizlesene.pw/film/sniper-rogue-mission-fhd/',\n",
       " 'https://www.fullhdfilmizlesene.pw/film/yolun-bittigi-yer-end-of-the-road/',\n",
       " 'https://www.fullhdfilmizlesene.pw/film/amerikan-kusatmasi-american-siege-fhd4/',\n",
       " 'https://www.fullhdfilmizlesene.pw/film/gerisayim-countdown-2-fhd3/',\n",
       " 'https://www.fullhdfilmizlesene.pw/film/kirpi-sonic-sonic-the-hedgehog-film-izle-hd-fhd5/',\n",
       " 'https://www.fullhdfilmizlesene.pw/film/kayip-sehir-film-izle/',\n",
       " 'https://www.fullhdfilmizlesene.pw/film/yuzuklerin-efendisi-guc-yuzukleri-izle-fhd2/',\n",
       " 'https://www.fullhdfilmizlesene.pw/film/kusatma-nisancinin-gozu-izle-fhd4/',\n",
       " 'https://www.fullhdfilmizlesene.pw/film/ivy-bean-fhd4/',\n",
       " 'https://www.fullhdfilmizlesene.pw/film/aclik-oyunlari-alayci-kus-bolum-1-izle-hd1/',\n",
       " 'https://www.fullhdfilmizlesene.pw/film/lego-star-wars-terrifying-tales/',\n",
       " 'https://www.fullhdfilmizlesene.pw/film/yuzuklerin-efendisi-iki-kule-film-izle-fhd4/',\n",
       " 'https://www.fullhdfilmizlesene.pw/film/kung-fu-ghost-fhd3/',\n",
       " 'https://www.fullhdfilmizlesene.pw/film/seul-88-izlehd-fhd2/',\n",
       " 'https://www.fullhdfilmizlesene.pw/film/free-dead-or-alive-fhd2/',\n",
       " 'https://www.fullhdfilmizlesene.pw/film/delirtmeyin-bizi-izlehd-fhd3/',\n",
       " 'https://www.fullhdfilmizlesene.pw/film/kahramanin-donusu-izle-fhd3/',\n",
       " 'https://www.fullhdfilmizlesene.pw/film/aclik-oyunlari-alayci-kus-bolum-2-full-film-izle-hd/',\n",
       " 'https://www.fullhdfilmizlesene.pw/film/fullmetal-alchemist-the-revenge-of-scar-hagane-no-renkinjutsushi-kanketsu-hen-fukushusha-scar3/',\n",
       " 'https://www.fullhdfilmizlesene.pw/film/flmtn-alc-2017-izlehd3/',\n",
       " 'https://www.fullhdfilmizlesene.pw/film/the-moderator-izle-hd3/',\n",
       " 'https://www.fullhdfilmizlesene.pw/film/thor-god-of-thunder-izlehd-fhd4/',\n",
       " 'https://www.fullhdfilmizlesene.pw/film/code-name-banshee-izlehd-fhd3/',\n",
       " 'https://www.fullhdfilmizlesene.pw/film/death-hunt-izlehd-fhd3/']"
      ]
     },
     "execution_count": 7,
     "metadata": {},
     "output_type": "execute_result"
    }
   ],
   "source": [
    "%%time\n",
    "list_1=[]\n",
    "for x in range(1,4):\n",
    "    l=f'https://www.fullhdfilmizlesene.pw/filmizle/aksiyon-filmleri-izle-fhd-hd/{x}'\n",
    "    http = urllib3.PoolManager()\n",
    "    url= http.request('GET',l)\n",
    "    soup= BeautifulSoup(url.data, 'html.parser')\n",
    "    linkler=soup.find_all('a',class_='tt')\n",
    "    for i in range(len(linkler)):\n",
    "        list_1.append(str(linkler[i]).replace('<a class=\"tt\" href=\"','').replace('\" title=\"Filmi izle\"></a>',''))\n",
    "list_1"
   ]
  },
  {
   "cell_type": "code",
   "execution_count": null,
   "id": "83780cf7-0b87-4bc0-82fb-4f53be160ea8",
   "metadata": {},
   "outputs": [],
   "source": []
  },
  {
   "cell_type": "code",
   "execution_count": 49,
   "id": "727ea644-72b6-4bf7-aae8-c677a704efd4",
   "metadata": {},
   "outputs": [],
   "source": []
  },
  {
   "cell_type": "code",
   "execution_count": null,
   "id": "edd14b92-1c56-464c-8408-072b2e8dfc8f",
   "metadata": {},
   "outputs": [],
   "source": []
  },
  {
   "cell_type": "code",
   "execution_count": null,
   "id": "2b6738fd-b965-493f-81ea-4b513a83f32f",
   "metadata": {},
   "outputs": [],
   "source": []
  },
  {
   "cell_type": "code",
   "execution_count": null,
   "id": "15b50eb2-9b6f-48af-980a-7521853a83e9",
   "metadata": {},
   "outputs": [],
   "source": []
  },
  {
   "cell_type": "markdown",
   "id": "03b549c4-734b-46a1-9f1f-54fd29f64626",
   "metadata": {},
   "source": [
    "## Film"
   ]
  },
  {
   "cell_type": "code",
   "execution_count": 78,
   "id": "e34a7ece-7150-46f2-8daa-2800f1b909db",
   "metadata": {},
   "outputs": [],
   "source": [
    "http_2= urllib3.PoolManager()\n",
    "l_2 = http_2.request('GET','https://www.fullhdfilmizlesene.pw/film/kuzey-denizi-nordsjen/')\n",
    "soup_2=BeautifulSoup(l_2.data, 'html.parser')\n",
    "links_2 = soup_2.findAll('a', href='https://www.fullhdfilmizlesene.pw/film/kuzey-denizi-nordsjen/')\n",
    "film=re.sub('<[^>]+>' , ' ', str(links_2)).strip().replace(' ]','').replace('[ ','')"
   ]
  },
  {
   "cell_type": "code",
   "execution_count": null,
   "id": "9b70d9dd-6a57-4faa-bb39-ae1061d533ad",
   "metadata": {},
   "outputs": [],
   "source": []
  },
  {
   "cell_type": "markdown",
   "id": "14c11fde-f048-4f79-aca9-0e7e890ba9bc",
   "metadata": {},
   "source": [
    "## IMDB"
   ]
  },
  {
   "cell_type": "code",
   "execution_count": 90,
   "id": "a74e6985-8107-43dd-a407-322385314c0a",
   "metadata": {},
   "outputs": [],
   "source": [
    "http_3= urllib3.PoolManager()\n",
    "l_3 = http_3.request('GET','https://www.fullhdfilmizlesene.pw/film/kuzey-denizi-nordsjen/')\n",
    "soup_3=BeautifulSoup(l_3.data, 'html.parser')\n",
    "links_3 = soup_3.findAll('div', class_='imdb-ic')\n",
    "imdb=float(re.sub('<[^>]+>' , ' ', str(links_3)).strip().split()[-2])"
   ]
  },
  {
   "cell_type": "code",
   "execution_count": null,
   "id": "867c5062-3d32-426a-9b21-180fbc2bec41",
   "metadata": {},
   "outputs": [],
   "source": []
  },
  {
   "cell_type": "markdown",
   "id": "c8614713-0480-4d86-88a2-1c947a4e37f7",
   "metadata": {},
   "source": [
    "## FHD"
   ]
  },
  {
   "cell_type": "code",
   "execution_count": 102,
   "id": "eff23528-aeab-401d-846a-ed78d2ef6082",
   "metadata": {},
   "outputs": [],
   "source": [
    "http_4= urllib3.PoolManager()\n",
    "l_4 = http_4.request('GET','https://www.fullhdfilmizlesene.pw/film/kuzey-denizi-nordsjen/')\n",
    "soup_4=BeautifulSoup(l_4.data, 'html.parser')\n",
    "links_4 = soup_4.findAll('div', class_='puanx-ic')\n",
    "FHD=float(re.sub('<[^>]+>' , ' ', str(links_4)).strip().split()[2])"
   ]
  },
  {
   "cell_type": "code",
   "execution_count": null,
   "id": "5b477ab5-7091-4e8e-9b84-37e29e541b5e",
   "metadata": {},
   "outputs": [],
   "source": []
  },
  {
   "cell_type": "markdown",
   "id": "51b8a50c-7295-4184-8b10-2eefef35ae23",
   "metadata": {},
   "source": [
    "## DIRECTOR"
   ]
  },
  {
   "cell_type": "code",
   "execution_count": 114,
   "id": "09890fe2-b5da-4234-bce3-20b32bdf08ba",
   "metadata": {},
   "outputs": [],
   "source": [
    "http_5= urllib3.PoolManager()\n",
    "l_5 = http_5.request('GET','https://www.fullhdfilmizlesene.pw/film/kuzey-denizi-nordsjen/')\n",
    "soup_5=BeautifulSoup(l_5.data, 'html.parser')\n",
    "links_5 = soup_5.findAll('div', class_='dd')\n",
    "director=re.sub('<[^>]+>' , ' ', str(links_5)).strip().split('\\n')[1].replace(',','').strip()"
   ]
  },
  {
   "cell_type": "code",
   "execution_count": null,
   "id": "f26b2123-fa42-46e7-ace6-105cd80f40d1",
   "metadata": {},
   "outputs": [],
   "source": []
  },
  {
   "cell_type": "code",
   "execution_count": null,
   "id": "063946c2-77ef-42ca-ae2e-55288b8e9395",
   "metadata": {},
   "outputs": [],
   "source": []
  },
  {
   "cell_type": "markdown",
   "id": "fa1d6061-d371-4be1-bd61-e118ae91d1bb",
   "metadata": {},
   "source": [
    "## year category"
   ]
  },
  {
   "cell_type": "code",
   "execution_count": 202,
   "id": "5ace5039-031a-4fed-a176-49e8c054c682",
   "metadata": {},
   "outputs": [],
   "source": [
    "http_6= urllib3.PoolManager()\n",
    "l_6 = http_6.request('GET','https://www.fullhdfilmizlesene.pw/film/kuzey-denizi-nordsjen/')\n",
    "soup_6=BeautifulSoup(l_6.data, 'html.parser')\n",
    "links_6 = soup_6.findAll('span', itemprop=\"name\")\n",
    "year=re.sub('<[^>]+>' , ' ', str(links_6)).strip().replace(' ]','').replace('[ ','').strip().replace(' , ','').split(' ')[2]"
   ]
  },
  {
   "cell_type": "code",
   "execution_count": null,
   "id": "d5f02845-35ef-4ba4-be36-80f39b2dd9c2",
   "metadata": {},
   "outputs": [],
   "source": []
  },
  {
   "cell_type": "markdown",
   "id": "e68fb7aa-ef6e-42ca-bad4-c0ddb55a1d20",
   "metadata": {},
   "source": [
    "## cat"
   ]
  },
  {
   "cell_type": "code",
   "execution_count": 18,
   "id": "dcbdcca0-291a-477b-b912-35c137399340",
   "metadata": {},
   "outputs": [],
   "source": [
    "http_7= urllib3.PoolManager()\n",
    "l_7 = http_7.request('GET','https://www.fullhdfilmizlesene.pw/film/kuzey-denizi-nordsjen/')\n",
    "soup_7=BeautifulSoup(l_7.data, 'html.parser')\n",
    "links_7 = soup_7.findAll('a', rel=\"category tag\")\n",
    "janre=re.sub('<[^>]+>' , ' ', str(links_7)).strip().replace(' ]','').replace('[ ','').strip().replace(' ,  ',',')"
   ]
  },
  {
   "cell_type": "code",
   "execution_count": null,
   "id": "501cc341-dac2-4375-99ef-bbee6b18d254",
   "metadata": {},
   "outputs": [],
   "source": []
  },
  {
   "cell_type": "markdown",
   "id": "d73ebb88-2d1c-4c48-9a46-6cbc157e7a5a",
   "metadata": {},
   "source": [
    "## language"
   ]
  },
  {
   "cell_type": "code",
   "execution_count": 52,
   "id": "49c5151a-d21e-40ce-aa69-b09f2d3f63cb",
   "metadata": {},
   "outputs": [],
   "source": [
    "## dublajj\n",
    "\n",
    "http_8= urllib3.PoolManager()\n",
    "l_8= http_8.request('GET','https://www.fullhdfilmizlesene.pw/film/kuzey-denizi-nordsjen/')\n",
    "soup_8=BeautifulSoup(l_8.data, 'html.parser')\n",
    "links_8 = soup_8.findAll('a', href=\"https://www.fullhdfilmizlesene.pw/filmizle/turkce-dublaj-filmleri-hd-fh-izle\")\n",
    "dubl=re.sub('<[^>]+>' , ' ', str(links_8)).strip().replace(' ]','').replace('[ ','').replace(' ,  ',',')[0:13]"
   ]
  },
  {
   "cell_type": "code",
   "execution_count": 58,
   "id": "52ec825c-7bdc-4775-a99b-5e6012d1e1e2",
   "metadata": {},
   "outputs": [],
   "source": [
    "### altyazi\n",
    "\n",
    "http_8= urllib3.PoolManager()\n",
    "l_8= http_8.request('GET','https://www.fullhdfilmizlesene.pw/film/kuzey-denizi-nordsjen/')\n",
    "soup_8=BeautifulSoup(l_8.data, 'html.parser')\n",
    "links_8 = soup_8.findAll('a', href=\"https://www.fullhdfilmizlesene.pw/filmizle/turkce-altyazili-filmler-izlehd\")\n",
    "subt=re.sub('<[^>]+>' , ' ', str(links_8)).strip().replace(' ]','').replace('[ ','').replace(' ,  ',',')[0:14]"
   ]
  },
  {
   "cell_type": "code",
   "execution_count": null,
   "id": "6d1af337-c4f9-4e96-9174-765b7f58f5a9",
   "metadata": {},
   "outputs": [],
   "source": []
  },
  {
   "cell_type": "code",
   "execution_count": null,
   "id": "fd58139a-3a4c-4cee-ae6a-e0e3012fa6b1",
   "metadata": {},
   "outputs": [],
   "source": []
  },
  {
   "cell_type": "code",
   "execution_count": null,
   "id": "54db3cfe-5b67-4a39-86fb-14c7154cb551",
   "metadata": {},
   "outputs": [],
   "source": []
  },
  {
   "cell_type": "code",
   "execution_count": null,
   "id": "5c383edc-4981-4363-8453-6162c07f61fa",
   "metadata": {},
   "outputs": [],
   "source": []
  },
  {
   "cell_type": "code",
   "execution_count": 43,
   "id": "03feb1a8-6d8d-4994-be4a-a0f6b3e8380d",
   "metadata": {},
   "outputs": [
    {
     "name": "stdout",
     "output_type": "stream",
     "text": [
      "CPU times: total: 7.58 s\n",
      "Wall time: 3min 59s\n"
     ]
    },
    {
     "data": {
      "text/plain": [
       "3194"
      ]
     },
     "execution_count": 43,
     "metadata": {},
     "output_type": "execute_result"
    }
   ],
   "source": [
    "%%time\n",
    "list_1=[]\n",
    "for x in range(1,754):\n",
    "    l=f'https://www.fullhdfilmizlesene.pw/filmizle/aksiyon-filmleri-izle-fhd-hd/{x}'\n",
    "    http = urllib3.PoolManager()\n",
    "    url= http.request('GET',l)\n",
    "    soup= BeautifulSoup(url.data, 'html.parser')\n",
    "    linkler=soup.find_all('a',class_='tt')\n",
    "    for i in range(len(linkler)):\n",
    "        list_1.append(str(linkler[i]).replace('<a class=\"tt\" href=\"','').replace('\" title=\"Filmi izle\"></a>',''))\n",
    "len(list_1)"
   ]
  },
  {
   "cell_type": "code",
   "execution_count": 49,
   "id": "092cb853-fa15-433e-844a-188fefbc602f",
   "metadata": {},
   "outputs": [],
   "source": [
    "la=pd.DataFrame(({'link':list_1}))"
   ]
  },
  {
   "cell_type": "code",
   "execution_count": 50,
   "id": "b0e5b850-e07d-4eaf-8c6e-1143682ecc9b",
   "metadata": {},
   "outputs": [],
   "source": [
    "la.to_excel('links.xlsx',engine='xlsxwriter')"
   ]
  },
  {
   "cell_type": "code",
   "execution_count": null,
   "id": "13a82c40-c98d-454f-a05a-6169b81cd69f",
   "metadata": {},
   "outputs": [],
   "source": []
  },
  {
   "cell_type": "code",
   "execution_count": null,
   "id": "67f47ab0-2a66-4bb7-bb58-5dbdf84a9d23",
   "metadata": {},
   "outputs": [],
   "source": []
  },
  {
   "cell_type": "code",
   "execution_count": null,
   "id": "b1ed52b3-c954-46ee-8ee0-6bf1770cecb4",
   "metadata": {},
   "outputs": [],
   "source": []
  },
  {
   "cell_type": "code",
   "execution_count": 52,
   "id": "008820a9-894b-47fb-99de-0cc903e98db5",
   "metadata": {},
   "outputs": [
    {
     "name": "stdout",
     "output_type": "stream",
     "text": [
      "CPU times: total: 1min\n",
      "Wall time: 7min 4s\n"
     ]
    },
    {
     "data": {
      "text/html": [
       "<div>\n",
       "<style scoped>\n",
       "    .dataframe tbody tr th:only-of-type {\n",
       "        vertical-align: middle;\n",
       "    }\n",
       "\n",
       "    .dataframe tbody tr th {\n",
       "        vertical-align: top;\n",
       "    }\n",
       "\n",
       "    .dataframe thead th {\n",
       "        text-align: right;\n",
       "    }\n",
       "</style>\n",
       "<table border=\"1\" class=\"dataframe\">\n",
       "  <thead>\n",
       "    <tr style=\"text-align: right;\">\n",
       "      <th></th>\n",
       "      <th>name</th>\n",
       "      <th>imdb</th>\n",
       "      <th>fhd</th>\n",
       "      <th>director</th>\n",
       "      <th>year</th>\n",
       "      <th>genre</th>\n",
       "      <th>dubbing_language</th>\n",
       "      <th>subtitle_language</th>\n",
       "    </tr>\n",
       "  </thead>\n",
       "  <tbody>\n",
       "    <tr>\n",
       "      <th>0</th>\n",
       "      <td>Kuzey Denizi</td>\n",
       "      <td>6.3</td>\n",
       "      <td>8.0</td>\n",
       "      <td>John Andreas Andersen</td>\n",
       "      <td>2021</td>\n",
       "      <td>Aksiyon Filmleri,Dram Filmleri,Gerilim Filmler...</td>\n",
       "      <td>Türkçe Dublaj</td>\n",
       "      <td>Türkçe Altyazı</td>\n",
       "    </tr>\n",
       "    <tr>\n",
       "      <th>1</th>\n",
       "      <td>Altın</td>\n",
       "      <td>5.4</td>\n",
       "      <td>8.3</td>\n",
       "      <td>Anthony Hayes</td>\n",
       "      <td>2022</td>\n",
       "      <td>Aksiyon Filmleri,Gerilim Filmleri,Yabancı Film...</td>\n",
       "      <td>Türkçe Dublaj</td>\n",
       "      <td>Türkçe Altyazı</td>\n",
       "    </tr>\n",
       "    <tr>\n",
       "      <th>2</th>\n",
       "      <td>Sonsuz</td>\n",
       "      <td>5.3</td>\n",
       "      <td>9.0</td>\n",
       "      <td>Antoine Fuqua</td>\n",
       "      <td>2021</td>\n",
       "      <td>Aksiyon Filmleri,Bilim Kurgu Filmleri,Gerilim ...</td>\n",
       "      <td>Türkçe Dublaj</td>\n",
       "      <td>Türkçe Altyazı</td>\n",
       "    </tr>\n",
       "    <tr>\n",
       "      <th>3</th>\n",
       "      <td>Yenilmez Ejderha - Jiu long bu bai</td>\n",
       "      <td>4.2</td>\n",
       "      <td>6.0</td>\n",
       "      <td>Fruit Chan</td>\n",
       "      <td>2019</td>\n",
       "      <td>Aksiyon Filmleri,Macera Filmleri,Suç Filmleri,...</td>\n",
       "      <td>Türkçe Dublaj</td>\n",
       "      <td>Türkçe Altyazı</td>\n",
       "    </tr>\n",
       "    <tr>\n",
       "      <th>4</th>\n",
       "      <td>Supercool</td>\n",
       "      <td>6.3</td>\n",
       "      <td>7.6</td>\n",
       "      <td>Teppo Airaksinen</td>\n",
       "      <td>2021</td>\n",
       "      <td>Aksiyon Filmleri,Fantastik Filmler,Komedi Film...</td>\n",
       "      <td>Türkçe Dublaj</td>\n",
       "      <td>Türkçe Altyazı</td>\n",
       "    </tr>\n",
       "    <tr>\n",
       "      <th>...</th>\n",
       "      <td>...</td>\n",
       "      <td>...</td>\n",
       "      <td>...</td>\n",
       "      <td>...</td>\n",
       "      <td>...</td>\n",
       "      <td>...</td>\n",
       "      <td>...</td>\n",
       "      <td>...</td>\n",
       "    </tr>\n",
       "    <tr>\n",
       "      <th>3189</th>\n",
       "      <td>Dabangg</td>\n",
       "      <td>6.3</td>\n",
       "      <td>8.9</td>\n",
       "      <td>Abhinav Kashyap</td>\n",
       "      <td>2010</td>\n",
       "      <td>Aksiyon Filmleri,Gerilim Filmleri,Suç Filmleri...</td>\n",
       "      <td>Türkçe Dublaj</td>\n",
       "      <td>Türkçe Altyazı</td>\n",
       "    </tr>\n",
       "    <tr>\n",
       "      <th>3190</th>\n",
       "      <td>Sinbadını 7 macerası</td>\n",
       "      <td>2.6</td>\n",
       "      <td>6.8</td>\n",
       "      <td>Adam Silver     Ben Hayflick</td>\n",
       "      <td>2010</td>\n",
       "      <td>Aksiyon Filmleri,Fantastik Filmler,Macera Film...</td>\n",
       "      <td>Türkçe Dublaj</td>\n",
       "      <td>Türkçe Altyazı</td>\n",
       "    </tr>\n",
       "    <tr>\n",
       "      <th>3191</th>\n",
       "      <td>Tales of an Ancient Empire</td>\n",
       "      <td>3.2</td>\n",
       "      <td>8.1</td>\n",
       "      <td>Albert Pyun</td>\n",
       "      <td>2010</td>\n",
       "      <td>Aksiyon Filmleri,Macera Filmleri,Yabancı Filmler</td>\n",
       "      <td>Türkçe Dublaj</td>\n",
       "      <td>Türkçe Altyazı</td>\n",
       "    </tr>\n",
       "    <tr>\n",
       "      <th>3192</th>\n",
       "      <td>Buz Kasırgası</td>\n",
       "      <td>4.1</td>\n",
       "      <td>8.6</td>\n",
       "      <td>Steven R. Monroe</td>\n",
       "      <td>2009</td>\n",
       "      <td>Aksiyon Filmleri,Bilim Kurgu Filmleri,Dram Fil...</td>\n",
       "      <td>Türkçe Dublaj</td>\n",
       "      <td>Türkçe Altyazı</td>\n",
       "    </tr>\n",
       "    <tr>\n",
       "      <th>3193</th>\n",
       "      <td>Kasabanın Namusu</td>\n",
       "      <td>7.8</td>\n",
       "      <td>7.8</td>\n",
       "      <td>George P. Cosmatos     Kevin Jarre</td>\n",
       "      <td>1993</td>\n",
       "      <td>Aksiyon Filmleri,Biyografi Filmleri,Dram Filml...</td>\n",
       "      <td>Türkçe Dublaj</td>\n",
       "      <td>Türkçe Altyazı</td>\n",
       "    </tr>\n",
       "  </tbody>\n",
       "</table>\n",
       "<p>3194 rows × 8 columns</p>\n",
       "</div>"
      ],
      "text/plain": [
       "                                    name  imdb  fhd  \\\n",
       "0                           Kuzey Denizi   6.3  8.0   \n",
       "1                                  Altın   5.4  8.3   \n",
       "2                                 Sonsuz   5.3  9.0   \n",
       "3     Yenilmez Ejderha - Jiu long bu bai   4.2  6.0   \n",
       "4                              Supercool   6.3  7.6   \n",
       "...                                  ...   ...  ...   \n",
       "3189                             Dabangg   6.3  8.9   \n",
       "3190                Sinbadını 7 macerası   2.6  6.8   \n",
       "3191          Tales of an Ancient Empire   3.2  8.1   \n",
       "3192                       Buz Kasırgası   4.1  8.6   \n",
       "3193                    Kasabanın Namusu   7.8  7.8   \n",
       "\n",
       "                                director  year  \\\n",
       "0                  John Andreas Andersen  2021   \n",
       "1                          Anthony Hayes  2022   \n",
       "2                          Antoine Fuqua  2021   \n",
       "3                             Fruit Chan  2019   \n",
       "4                       Teppo Airaksinen  2021   \n",
       "...                                  ...   ...   \n",
       "3189                     Abhinav Kashyap  2010   \n",
       "3190        Adam Silver     Ben Hayflick  2010   \n",
       "3191                         Albert Pyun  2010   \n",
       "3192                    Steven R. Monroe  2009   \n",
       "3193  George P. Cosmatos     Kevin Jarre  1993   \n",
       "\n",
       "                                                  genre dubbing_language  \\\n",
       "0     Aksiyon Filmleri,Dram Filmleri,Gerilim Filmler...    Türkçe Dublaj   \n",
       "1     Aksiyon Filmleri,Gerilim Filmleri,Yabancı Film...    Türkçe Dublaj   \n",
       "2     Aksiyon Filmleri,Bilim Kurgu Filmleri,Gerilim ...    Türkçe Dublaj   \n",
       "3     Aksiyon Filmleri,Macera Filmleri,Suç Filmleri,...    Türkçe Dublaj   \n",
       "4     Aksiyon Filmleri,Fantastik Filmler,Komedi Film...    Türkçe Dublaj   \n",
       "...                                                 ...              ...   \n",
       "3189  Aksiyon Filmleri,Gerilim Filmleri,Suç Filmleri...    Türkçe Dublaj   \n",
       "3190  Aksiyon Filmleri,Fantastik Filmler,Macera Film...    Türkçe Dublaj   \n",
       "3191   Aksiyon Filmleri,Macera Filmleri,Yabancı Filmler    Türkçe Dublaj   \n",
       "3192  Aksiyon Filmleri,Bilim Kurgu Filmleri,Dram Fil...    Türkçe Dublaj   \n",
       "3193  Aksiyon Filmleri,Biyografi Filmleri,Dram Filml...    Türkçe Dublaj   \n",
       "\n",
       "     subtitle_language  \n",
       "0       Türkçe Altyazı  \n",
       "1       Türkçe Altyazı  \n",
       "2       Türkçe Altyazı  \n",
       "3       Türkçe Altyazı  \n",
       "4       Türkçe Altyazı  \n",
       "...                ...  \n",
       "3189    Türkçe Altyazı  \n",
       "3190    Türkçe Altyazı  \n",
       "3191    Türkçe Altyazı  \n",
       "3192    Türkçe Altyazı  \n",
       "3193    Türkçe Altyazı  \n",
       "\n",
       "[3194 rows x 8 columns]"
      ]
     },
     "execution_count": 52,
     "metadata": {},
     "output_type": "execute_result"
    }
   ],
   "source": [
    "%%time\n",
    "\n",
    "list_of_links=list_1\n",
    "\n",
    "list_film=[]\n",
    "\n",
    "data=pd.DataFrame()\n",
    "\n",
    "for link in range(len(list_of_links)):\n",
    "\n",
    "    http= urllib3.PoolManager()\n",
    "\n",
    "    l = http.request('GET',list_of_links[link])\n",
    "\n",
    "    soup=BeautifulSoup(l.data, 'html.parser')\n",
    "\n",
    "    try:\n",
    "        links_film_name = soup.findAll('a', href=list_1[link])\n",
    "\n",
    "        film=re.sub('<[^>]+>' , ' ', str(links_film_name)).strip().replace(' ]','').replace('[ ','')\n",
    "    except:\n",
    "        film=0\n",
    "    try:\n",
    "        links_imdb = soup.findAll('div', class_='imdb-ic')\n",
    "\n",
    "        imdb=float(re.sub('<[^>]+>' , ' ', str(links_imdb)).strip().split()[-2])\n",
    "    except:\n",
    "\n",
    "        imdb=0\n",
    "    try:\n",
    "        links_fhd = soup.findAll('div', class_='puanx-ic')\n",
    "\n",
    "        fhd=float(re.sub('<[^>]+>' , ' ', str(links_fhd)).strip().split()[2])\n",
    "    except:\n",
    "        fhd=0\n",
    "    try:\n",
    "        links_director = soup.findAll('div', class_='dd')\n",
    "\n",
    "        director=re.sub('<[^>]+>' , ' ', str(links_director)).strip().split('\\n')[1].replace(',','').strip()\n",
    "    except:\n",
    "        director=0\n",
    "    try:\n",
    "        links_year = soup.findAll('span', itemprop=\"name\")\n",
    "\n",
    "        year=re.sub('<[^>]+>' , ' ', str(links_year)).strip().replace(' ]','').replace('[ ','').strip().replace(' , ','').split(' ')[2]\n",
    "    except:\n",
    "        year=0\n",
    "    try:\n",
    "        links_cat = soup.findAll('a', rel=\"category tag\")\n",
    "\n",
    "        janr=re.sub('<[^>]+>' , ' ', str(links_cat)).strip().replace(' ]','').replace('[ ','').strip().replace(' ,  ',',')\n",
    "    except:\n",
    "        janr=0\n",
    "    try:\n",
    "        links_dublaj = soup.findAll('a', href=\"https://www.fullhdfilmizlesene.pw/filmizle/turkce-dublaj-filmleri-hd-fh-izle\")\n",
    "\n",
    "        dublaj=re.sub('<[^>]+>' , ' ', str(links_dublaj)).strip().replace(' ]','').replace('[ ','').replace(' ,  ',',')[0:13]\n",
    "    except:\n",
    "        dublaj=0\n",
    "    try:\n",
    "        links_subtitle = soup.findAll('a', href=\"https://www.fullhdfilmizlesene.pw/filmizle/turkce-altyazili-filmler-izlehd\")\n",
    "\n",
    "        subt=re.sub('<[^>]+>' , ' ', str(links_subtitle)).strip().replace(' ]','').replace('[ ','').replace(' ,  ',',')[0:14]\n",
    "    except:\n",
    "        subt=0\n",
    "    list_film.append({'name':film,'imdb':imdb ,'fhd':fhd ,'director': director,'year' : year ,'genre': janr ,'dubbing_language':dublaj ,'subtitle_language' : subt})\n",
    "\n",
    "\n",
    "data=pd.DataFrame(list_film)\n",
    "\n",
    "data"
   ]
  },
  {
   "cell_type": "code",
   "execution_count": 53,
   "id": "00ff392d-dc7f-46bf-a499-59212ada9032",
   "metadata": {},
   "outputs": [],
   "source": [
    "data.to_excel('data_13_10_2022.xlsx',engine='xlsxwriter')"
   ]
  },
  {
   "cell_type": "code",
   "execution_count": null,
   "id": "3a2f23d6-9957-4ec4-9b65-e32ed0cdd950",
   "metadata": {},
   "outputs": [],
   "source": []
  },
  {
   "cell_type": "code",
   "execution_count": null,
   "id": "53de1458-53d8-4340-900b-5b8a16fec96d",
   "metadata": {},
   "outputs": [],
   "source": []
  },
  {
   "cell_type": "code",
   "execution_count": null,
   "id": "fb544aa1-ddc3-480a-95a1-dc75cb3a327c",
   "metadata": {},
   "outputs": [],
   "source": []
  },
  {
   "cell_type": "code",
   "execution_count": null,
   "id": "ed4e7b63-eb3e-43a2-94c8-b319d4dbd53a",
   "metadata": {
    "tags": []
   },
   "outputs": [],
   "source": []
  },
  {
   "cell_type": "code",
   "execution_count": null,
   "id": "f6cd89fa-269a-41d6-95c4-e5a86a596e66",
   "metadata": {},
   "outputs": [],
   "source": []
  },
  {
   "cell_type": "code",
   "execution_count": null,
   "id": "a822ce9a-2190-4395-bff4-ebc23ccf24d9",
   "metadata": {},
   "outputs": [],
   "source": []
  },
  {
   "cell_type": "code",
   "execution_count": null,
   "id": "c7cd11f1-4368-4596-93cb-3818c2a46c18",
   "metadata": {},
   "outputs": [],
   "source": []
  },
  {
   "cell_type": "code",
   "execution_count": null,
   "id": "a1ed3d36-c08e-4bb9-9b94-7d488a549750",
   "metadata": {},
   "outputs": [],
   "source": []
  },
  {
   "cell_type": "code",
   "execution_count": null,
   "id": "832180fd-5ba1-4c42-9325-cc4788e6e3b5",
   "metadata": {},
   "outputs": [],
   "source": []
  },
  {
   "cell_type": "code",
   "execution_count": null,
   "id": "115b5644-715d-4845-b3f1-979f9df558a5",
   "metadata": {},
   "outputs": [],
   "source": []
  },
  {
   "cell_type": "code",
   "execution_count": null,
   "id": "aece9941-9a03-4fe9-bf5a-dd7416a57340",
   "metadata": {},
   "outputs": [],
   "source": []
  },
  {
   "cell_type": "code",
   "execution_count": null,
   "id": "a3832134-289b-4294-96c7-0f483864310c",
   "metadata": {},
   "outputs": [],
   "source": []
  },
  {
   "cell_type": "code",
   "execution_count": null,
   "id": "b2404ef0-499f-4962-b719-a791ea27b6a1",
   "metadata": {},
   "outputs": [],
   "source": []
  },
  {
   "cell_type": "code",
   "execution_count": null,
   "id": "fc727416-6a46-42c7-9438-652c45b35d60",
   "metadata": {},
   "outputs": [],
   "source": []
  },
  {
   "cell_type": "code",
   "execution_count": null,
   "id": "26a3443c-a3b7-45dd-baff-b0d853092805",
   "metadata": {},
   "outputs": [],
   "source": []
  },
  {
   "cell_type": "code",
   "execution_count": null,
   "id": "3c48383a-4276-428c-af2b-ae93ab5f039a",
   "metadata": {},
   "outputs": [],
   "source": []
  },
  {
   "cell_type": "code",
   "execution_count": null,
   "id": "762d3d34-0e80-4c21-975c-52fdbd4b19b2",
   "metadata": {},
   "outputs": [],
   "source": []
  },
  {
   "cell_type": "code",
   "execution_count": null,
   "id": "4e9c4ed1-79f2-4727-a65a-1a7c6ad3a636",
   "metadata": {},
   "outputs": [],
   "source": []
  },
  {
   "cell_type": "code",
   "execution_count": null,
   "id": "40bffd31-c2b4-4f81-9d10-17e7d221f1e9",
   "metadata": {},
   "outputs": [],
   "source": []
  },
  {
   "cell_type": "code",
   "execution_count": null,
   "id": "8d2acbbb-7136-48ff-9dff-0fe2bee5ca1e",
   "metadata": {},
   "outputs": [],
   "source": []
  },
  {
   "cell_type": "code",
   "execution_count": null,
   "id": "ac4eedee-0212-4749-94e7-80864b2e9949",
   "metadata": {},
   "outputs": [],
   "source": []
  },
  {
   "cell_type": "code",
   "execution_count": null,
   "id": "f78b9e0c-c784-48e5-a5e7-5c0b8ce26e15",
   "metadata": {},
   "outputs": [],
   "source": []
  },
  {
   "cell_type": "code",
   "execution_count": null,
   "id": "7cb26600-04ad-4caa-84df-572718f202a0",
   "metadata": {},
   "outputs": [],
   "source": []
  }
 ],
 "metadata": {
  "kernelspec": {
   "display_name": "Python 3 (ipykernel)",
   "language": "python",
   "name": "python3"
  },
  "language_info": {
   "codemirror_mode": {
    "name": "ipython",
    "version": 3
   },
   "file_extension": ".py",
   "mimetype": "text/x-python",
   "name": "python",
   "nbconvert_exporter": "python",
   "pygments_lexer": "ipython3",
   "version": "3.9.7"
  }
 },
 "nbformat": 4,
 "nbformat_minor": 5
}
